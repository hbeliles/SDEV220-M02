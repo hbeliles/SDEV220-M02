{
 "cells": [
  {
   "cell_type": "code",
   "execution_count": 1,
   "metadata": {},
   "outputs": [
    {
     "name": "stdout",
     "output_type": "stream",
     "text": [
      "too low\n"
     ]
    }
   ],
   "source": [
    "#4.1\n",
    "\n",
    "secret = 7\n",
    "guess = 3\n",
    "\n",
    "if secret > guess:\n",
    "\tprint(\"too low\")\n",
    "elif secret < guess:\n",
    "\tprint(\"too high\")\n",
    "else:\n",
    "\tprint(\"just right\")"
   ]
  },
  {
   "cell_type": "code",
   "execution_count": 7,
   "metadata": {},
   "outputs": [
    {
     "name": "stdout",
     "output_type": "stream",
     "text": [
      "cherry\n"
     ]
    }
   ],
   "source": [
    "#4.2\n",
    "small = True\n",
    "green = False\n",
    "\n",
    "\n",
    "if small and not green: \n",
    "\tprint(\"cherry\")\n",
    "elif small and green:\n",
    "\tprint(\"pea\")\n",
    "elif not small and small: \n",
    "    print(\"watermelon\")\n",
    "else:\n",
    "    print(\"pumpkin\")"
   ]
  },
  {
   "cell_type": "code",
   "execution_count": 2,
   "metadata": {},
   "outputs": [
    {
     "name": "stdout",
     "output_type": "stream",
     "text": [
      "0\n",
      "1\n",
      "2\n",
      "3\n"
     ]
    }
   ],
   "source": [
    "#6.1\n",
    "for h in range(0,4):\n",
    "    print(h)"
   ]
  },
  {
   "cell_type": "code",
   "execution_count": 15,
   "metadata": {},
   "outputs": [
    {
     "name": "stdout",
     "output_type": "stream",
     "text": [
      "too low. Number: 1\n",
      "too low. Number: 2\n",
      "too low. Number: 3\n",
      "too low. Number: 4\n",
      "too low. Number: 5\n",
      "too low. Number: 6\n"
     ]
    }
   ],
   "source": [
    "#6.2\n",
    "guess_me = 7\n",
    "number = 1\n",
    "while number != guess_me:\n",
    "    if number < guess_me:\n",
    "        print(\"too low. Number:\", number)\n",
    "        number += 1\n",
    "    else:\n",
    "        print(\"oops. Number:\", number)\n",
    "        break"
   ]
  },
  {
   "cell_type": "code",
   "execution_count": 19,
   "metadata": {},
   "outputs": [
    {
     "name": "stdout",
     "output_type": "stream",
     "text": [
      "too low. Number:  0\n",
      "too low. Number:  1\n",
      "too low. Number:  2\n",
      "too low. Number:  3\n",
      "too low. Number:  4\n",
      "found it! Number:  5\n"
     ]
    }
   ],
   "source": [
    "#6.3\n",
    "guess_me = 5\n",
    "for number in range(10):\n",
    "    if number < guess_me:\n",
    "        print(\"too low. Number: \", number)\n",
    "    elif number == guess_me:\n",
    "        print(\"found it! Number: \", number)\n",
    "        break\n",
    "    else:\n",
    "        print(\"oops. Number:\", number)\n",
    "        break"
   ]
  }
 ],
 "metadata": {
  "kernelspec": {
   "display_name": "Python 3",
   "language": "python",
   "name": "python3"
  },
  "language_info": {
   "codemirror_mode": {
    "name": "ipython",
    "version": 3
   },
   "file_extension": ".py",
   "mimetype": "text/x-python",
   "name": "python",
   "nbconvert_exporter": "python",
   "pygments_lexer": "ipython3",
   "version": "3.10.3"
  },
  "orig_nbformat": 4
 },
 "nbformat": 4,
 "nbformat_minor": 2
}
