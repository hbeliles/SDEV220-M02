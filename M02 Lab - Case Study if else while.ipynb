{
 "cells": [
  {
   "cell_type": "code",
   "execution_count": 2,
   "metadata": {},
   "outputs": [
    {
     "name": "stdout",
     "output_type": "stream",
     "text": [
      "You made the Honor Roll with a GPA of 3.25, Bruce Wallace\n",
      "Congrats, you made the Dean's List with a GPA of 3.5, Diana Ross\n",
      "Sorry, you didn't make either the Dean's List or Honor Roll. Your GPA is 2.9, Wally West\n"
     ]
    }
   ],
   "source": [
    "#Hannah Beliles\n",
    "# Case Study if else while.ipynb\n",
    "# Asks for the user to put their last name,  then the first name, then their GPA to see if they made Honor Roll or Dean's List.  \n",
    "\n",
    "# Holds score needed to get on DL and HR.\n",
    "dean_list = 3.50\n",
    "honor_roll = 3.25\n",
    "\n",
    "# Ask for and stores last name.\n",
    "lname = input(\"Enter your last name or type 'ZZZ' to exit: \")\n",
    "while lname != \"ZZZ\":\n",
    "# Asks for and stores first name .\n",
    "    fname = input(\"Enter your first name: \")\n",
    "# Asks for and stores the GPA.\n",
    "    gpa = float(input(\"Enter your GPA, using a decimal (Ex: Enter '3.00' instead of '3'): \"))\n",
    "# Checks if GPA qualifies for the Dean's List.    \n",
    "    if gpa >= dean_list:\n",
    "        print(\"Congrats, you made the Dean's List with a GPA of \" + str(gpa) + \", \" + fname + \" \" + lname)\n",
    "# Checks if GPA qualifies for Honor Roll.  \n",
    "    elif gpa >= honor_roll:\n",
    "        print(\"You made the Honor Roll with a GPA of \" + str(gpa) + \", \" + fname + \" \" + lname)\n",
    "# Situation where student doesn't make Honor Roll or Dean's List.\n",
    "    else:\n",
    "        print(\"Sorry, you didn't make either the Dean's List or Honor Roll. Your GPA is \" + str(gpa) + \", \" + fname + \" \" + lname)\n",
    "# Starts loop again.    \n",
    "    lname = input(\"Enter your last name or type 'ZZZ' to exit: \")"
   ]
  },
  {
   "cell_type": "code",
   "execution_count": null,
   "metadata": {},
   "outputs": [],
   "source": []
  }
 ],
 "metadata": {
  "kernelspec": {
   "display_name": "Python 3",
   "language": "python",
   "name": "python3"
  },
  "language_info": {
   "codemirror_mode": {
    "name": "ipython",
    "version": 3
   },
   "file_extension": ".py",
   "mimetype": "text/x-python",
   "name": "python",
   "nbconvert_exporter": "python",
   "pygments_lexer": "ipython3",
   "version": "3.10.3"
  },
  "orig_nbformat": 4
 },
 "nbformat": 4,
 "nbformat_minor": 2
}
